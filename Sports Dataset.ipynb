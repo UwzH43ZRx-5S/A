{
  "nbformat": 4,
  "nbformat_minor": 0,
  "metadata": {
    "colab": {
      "name": "Day 6 Sport Dataset EDA.ipynb",
      "provenance": [],
      "collapsed_sections": [],
      "include_colab_link": true
    },
    "kernelspec": {
      "name": "python3",
      "display_name": "Python 3"
    },
    "language_info": {
      "name": "python"
    }
  },
  "cells": [
    {
      "cell_type": "markdown",
      "metadata": {
        "id": "view-in-github",
        "colab_type": "text"
      },
      "source": [
        "<a href=\"https://colab.research.google.com/github/UwzH43ZRx-5S/A/blob/main/Sports%20Dataset.ipynb\" target=\"_parent\"><img src=\"https://colab.research.google.com/assets/colab-badge.svg\" alt=\"Open In Colab\"/></a>"
      ]
    },
    {
      "cell_type": "markdown",
      "source": [
        "# In-class Assignment\n",
        "## Find a sports dataset\n",
        "## Conduct initial EDA \n",
        "\n",
        "1.   Change at least two column names and complete at least one broadcast operation\n",
        "\n",
        "## Answer the following questions:\n",
        "1. Who are the highest players in the sport?\n",
        "2. Who is the most efficent player in that sport?\n",
        " (Most points scored or highest salary)\n",
        "3. Who is the best team within the sport?\n",
        "4. Come up with 5 more questions and answers.\n",
        "\n",
        "\n"
      ],
      "metadata": {
        "id": "1Ntk9xEvN5KS"
      }
    },
    {
      "cell_type": "code",
      "source": [
        "import numpy as np\n",
        "import pandas as pd"
      ],
      "metadata": {
        "id": "MOXeaoYRPS5j"
      },
      "execution_count": null,
      "outputs": []
    },
    {
      "cell_type": "code",
      "source": [
        "mlb = pd.read_csv('https://raw.githubusercontent.com/UwzH43ZRx-5S/mlData/main/mlb.csv')"
      ],
      "metadata": {
        "id": "qInmnvV2OjNx"
      },
      "execution_count": null,
      "outputs": []
    },
    {
      "cell_type": "code",
      "source": [
        "df_mlb = mlb"
      ],
      "metadata": {
        "id": "2Fk0C-3YPYGp"
      },
      "execution_count": null,
      "outputs": []
    },
    {
      "cell_type": "code",
      "source": [
        "# preview of the data set\n",
        "# showing the first 5 and last 5 rows\n",
        "# there are 4 columns \n",
        "df_mlb"
      ],
      "metadata": {
        "id": "fFFinLjuPqt8"
      },
      "execution_count": null,
      "outputs": []
    },
    {
      "cell_type": "code",
      "source": [
        "# we return a result of 828 rows, in a step of 1\n",
        "df_mlb.index"
      ],
      "metadata": {
        "id": "OLYiqanWPoA2"
      },
      "execution_count": null,
      "outputs": []
    },
    {
      "cell_type": "code",
      "source": [
        "# we return 828 rows and 4 columns\n",
        "df_mlb.shape"
      ],
      "metadata": {
        "id": "klup80AlP6sD"
      },
      "execution_count": null,
      "outputs": []
    },
    {
      "cell_type": "code",
      "source": [
        "df_mlb.rename(columns={'player': 'Player'}, inplace=True)\n",
        "df_mlb.rename(columns={'team': 'Team'}, inplace=True)\n",
        "df_mlb['Actual Salary'] = df_mlb['salary'].mul(1000)"
      ],
      "metadata": {
        "id": "-bLFJSajRZ4F"
      },
      "execution_count": null,
      "outputs": []
    },
    {
      "cell_type": "code",
      "source": [
        "print(df_mlb[['Player', 'salary']][df_mlb.salary == df_mlb['salary'].max()])\n",
        "#Highest paid player in the MLB at the time was Alex Rodriguez."
      ],
      "metadata": {
        "id": "cFMmn79uTXAB"
      },
      "execution_count": null,
      "outputs": []
    },
    {
      "cell_type": "code",
      "source": [
        "shortstops = df_mlb.loc[df_mlb['position'] == 'Shortstop']\n",
        "print(shortstops[['Player', 'salary']][shortstops.salary == shortstops['salary'].max()])\n",
        "#The highest paid shortstop was Derek Jeter."
      ],
      "metadata": {
        "id": "9h5JQ8poZgTS"
      },
      "execution_count": null,
      "outputs": []
    },
    {
      "cell_type": "code",
      "source": [
        "thirdbaseman = df_mlb.loc[df_mlb['position'] == 'Third Baseman']\n",
        "print(thirdbaseman[['Player', 'salary']][thirdbaseman.salary == thirdbaseman['salary'].max()])\n",
        "#The highest paid third baseman was Alex Rodriguez."
      ],
      "metadata": {
        "id": "-g-p6sfIbQJu"
      },
      "execution_count": null,
      "outputs": []
    },
    {
      "cell_type": "code",
      "source": [
        "catcher = df_mlb.loc[df_mlb['position'] == 'Catcher']\n",
        "print(catcher[['Player', 'salary']][catcher.salary == catcher['salary'].max()])\n",
        "#The highest paid catcher was Jorge Posada."
      ],
      "metadata": {
        "id": "7OEIe2n7baMz"
      },
      "execution_count": null,
      "outputs": []
    },
    {
      "cell_type": "code",
      "source": [
        "pitcher = df_mlb.loc[df_mlb['position'] == 'Pitcher']\n",
        "print(pitcher[['Player', 'salary']][pitcher.salary == pitcher['salary'].max()])\n",
        "#The highest paid pitcher was CC Sabathia."
      ],
      "metadata": {
        "id": "9r4u96RObh4V"
      },
      "execution_count": null,
      "outputs": []
    },
    {
      "cell_type": "code",
      "source": [
        "outfielder = df_mlb.loc[df_mlb['position'] == 'Outfielder']\n",
        "print(outfielder[['Player', 'salary']][outfielder.salary == outfielder['salary'].max()])\n",
        "#The highest paid outfielder was Carlos Beltran."
      ],
      "metadata": {
        "id": "zWEahH22fRF8"
      },
      "execution_count": null,
      "outputs": []
    },
    {
      "cell_type": "code",
      "source": [
        "teamy = df_mlb.loc[df_mlb['Team'] == 'Arizona Diamondbacks']\n",
        "print(teamy[['Player', 'salary']][teamy.salary == teamy['salary'].max()])\n",
        "#The highest paid player on the Arizona Diamondbacks was Brandon Webb."
      ],
      "metadata": {
        "id": "QHIS8sHHffmI"
      },
      "execution_count": null,
      "outputs": []
    },
    {
      "cell_type": "code",
      "source": [
        "teamsum = df_mlb[['Team', 'salary']]"
      ],
      "metadata": {
        "id": "xLlSAIofmLFY"
      },
      "execution_count": null,
      "outputs": []
    },
    {
      "cell_type": "code",
      "source": [
        "teamgroups = teamsum.groupby(by= ['Team'])\n",
        "teamsal=teamgroups.agg({'salary':\"sum\"})\n",
        "teamsal.reset_index(inplace=True)\n",
        "teamsal"
      ],
      "metadata": {
        "id": "zDQu0XHhgEl0"
      },
      "execution_count": null,
      "outputs": []
    },
    {
      "cell_type": "code",
      "source": [
        "avgsals=teamgroups.agg({'salary':\"mean\"})\n",
        "avgsals.reset_index(inplace=True)\n",
        "avgsals"
      ],
      "metadata": {
        "id": "kXrxa2THiiEU"
      },
      "execution_count": null,
      "outputs": []
    },
    {
      "cell_type": "code",
      "source": [
        "print(teamsal[['Team', 'salary']][teamsal.salary == teamsal['salary'].max()])\n",
        "#The team with the highest earnings overall was the New York Yankees."
      ],
      "metadata": {
        "id": "GrURLDCnhTw_"
      },
      "execution_count": null,
      "outputs": []
    },
    {
      "cell_type": "code",
      "source": [
        "print(avgsals[['Team', 'salary']][avgsals.salary == avgsals['salary'].max()])\n",
        "#The team with the highest average pay overall was the New York Yankees."
      ],
      "metadata": {
        "id": "5SRWRia3i2qX"
      },
      "execution_count": null,
      "outputs": []
    },
    {
      "cell_type": "code",
      "source": [
        "df_mlb2 = df_mlb"
      ],
      "metadata": {
        "id": "b5yRUcEnrPuY"
      },
      "execution_count": null,
      "outputs": []
    },
    {
      "cell_type": "code",
      "source": [
        "df_mlb2.drop(['Team', 'Player', 'Actual Salary'], axis = 1, inplace=True)"
      ],
      "metadata": {
        "id": "GyjL1ClerTrS"
      },
      "execution_count": null,
      "outputs": []
    },
    {
      "cell_type": "code",
      "source": [
        "posnteams = df_mlb2.groupby(by= ['position'])"
      ],
      "metadata": {
        "id": "eu6Sd-XvrWv_"
      },
      "execution_count": null,
      "outputs": []
    },
    {
      "cell_type": "code",
      "source": [
        "posavg=posnteams.agg({'salary':\"mean\"})\n",
        "posavg.reset_index(inplace=True)\n",
        "posavg"
      ],
      "metadata": {
        "id": "WQWnK3pdrZOR"
      },
      "execution_count": null,
      "outputs": []
    },
    {
      "cell_type": "code",
      "source": [
        "print(posavg[['position', 'salary']][posavg.salary == posavg['salary'].max()])\n",
        "#The position with the highest average salary is the first baseman."
      ],
      "metadata": {
        "id": "xtDbJo3WrfWM"
      },
      "execution_count": null,
      "outputs": []
    }
  ]
}