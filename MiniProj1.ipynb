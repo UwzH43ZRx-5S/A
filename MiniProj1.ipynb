{
  "nbformat": 4,
  "nbformat_minor": 0,
  "metadata": {
    "colab": {
      "name": "MiniProj1.ipynb",
      "provenance": [],
      "collapsed_sections": [],
      "authorship_tag": "ABX9TyMpdGzMEkHKkPibBWoJ83jI",
      "include_colab_link": true
    },
    "kernelspec": {
      "name": "python3",
      "display_name": "Python 3"
    },
    "language_info": {
      "name": "python"
    }
  },
  "cells": [
    {
      "cell_type": "markdown",
      "metadata": {
        "id": "view-in-github",
        "colab_type": "text"
      },
      "source": [
        "<a href=\"https://colab.research.google.com/github/UwzH43ZRx-5S/A/blob/main/MiniProj1.ipynb\" target=\"_parent\"><img src=\"https://colab.research.google.com/assets/colab-badge.svg\" alt=\"Open In Colab\"/></a>"
      ]
    },
    {
      "cell_type": "code",
      "execution_count": 86,
      "metadata": {
        "colab": {
          "base_uri": "https://localhost:8080/"
        },
        "id": "8x2TeQRTw4ng",
        "outputId": "7aaceb9a-a5a8-4898-9161-d4d7b79ad140"
      },
      "outputs": [
        {
          "output_type": "stream",
          "name": "stdout",
          "text": [
            "Gimme a number and I'll tell you if it's even or odd. My favorite numbers are multiples of 4. 16\n",
            "16 is even.\n",
            "Wow! Amazing. Just ran it by and it seems like 16 is also a multiple of 4. You made my day.\n",
            "Gimme two numbers and I'll tell you if they divide into each other. 4.4\n",
            "Now give me the number you want to see if it divides into. 2.2\n",
            "4.4 divides into 2.2.\n",
            "None\n"
          ]
        }
      ],
      "source": [
        "def determinator(jt):\n",
        "  if jt % 2 ==0:\n",
        "    print(f\"{jt} is even.\")\n",
        "    if jt % 4 ==0:\n",
        "      return(f\"Wow! Amazing. Just ran it by and it seems like {jt} is also a multiple of 4. You made my day.\")\n",
        "    else:\n",
        "      return(f\"However, it's not a multiple of 4.\")\n",
        "  else:\n",
        "    return(f\"{jt} is odd and most definitely not a multiple of 4.\")\n",
        "\n",
        "def divisible(check, num):\n",
        "  if check % num == 0:\n",
        "    print(f\"{check} divides into {num}.\")\n",
        "  else:\n",
        "    return(f\"{check} does not divide into {num}.\")\n",
        "  \n",
        "while True:\n",
        "  jt = int(input(\"Gimme a number and I'll tell you if it's even or odd. My favorite numbers are multiples of 4. \"))\n",
        "  print(determinator(jt))\n",
        "  break\n",
        "\n",
        "while True:\n",
        "  check = float(input(\"Gimme two numbers and I'll tell you if they divide into each other. \"))\n",
        "  num = float(input(\"Now give me the number you want to see if it divides into. \"))\n",
        "  print(divisible(check, num))\n",
        "  break"
      ]
    }
  ]
}